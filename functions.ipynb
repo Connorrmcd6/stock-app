{
 "cells": [
  {
   "cell_type": "code",
   "execution_count": 1,
   "metadata": {},
   "outputs": [],
   "source": [
    "import pandas as pd\n",
    "import gspread\n",
    "from gspread_dataframe import set_with_dataframe\n",
    "from google.oauth2.service_account import Credentials\n",
    "from pydrive.auth import GoogleAuth\n",
    "from pydrive.drive import GoogleDrive\n",
    "\n",
    "path_to_json = '/Users/connormcdonald/Desktop/GitHub/sinani_inventory_app/stock_in/sinani-inventory-app-a24cbb197b2a.json'\n",
    "sheet_key = '1yyLl9NVVljNXrKg4Kjr_0hEum1Bv0B55x5Bgs2m1_tM'\n",
    "sheet_name = 'Sheet2'"
   ]
  },
  {
   "cell_type": "code",
   "execution_count": 12,
   "metadata": {},
   "outputs": [],
   "source": [
    "def write_to_google(df, path_to_json, sheet_key, sheet_name):\n",
    "    scopes = ['https://www.googleapis.com/auth/spreadsheets',\n",
    "          'https://www.googleapis.com/auth/drive']\n",
    "    credentials = Credentials.from_service_account_file(path_to_json, scopes=scopes)\n",
    "    gc = gspread.authorize(credentials)\n",
    "    gauth = GoogleAuth()\n",
    "    drive = GoogleDrive(gauth)\n",
    "\n",
    "    # open a google sheet\n",
    "    gs = gc.open_by_key(sheet_key)\n",
    "\n",
    "    worksheet = gs.worksheet(sheet_name)\n",
    "\n",
    "    if len(worksheet.get(\"A1\")) == 0:\n",
    "        set_with_dataframe(worksheet=worksheet, dataframe=df, include_index=False, include_column_header=True, resize=True)\n",
    "\n",
    "    else:\n",
    "        df_values = df.values.tolist()\n",
    "        gs.values_append(sheet_name, {'valueInputOption': 'RAW'}, {'values': df_values})"
   ]
  },
  {
   "cell_type": "code",
   "execution_count": 2,
   "metadata": {},
   "outputs": [],
   "source": [
    "scopes = ['https://www.googleapis.com/auth/spreadsheets',\n",
    "          'https://www.googleapis.com/auth/drive']"
   ]
  },
  {
   "cell_type": "code",
   "execution_count": 3,
   "metadata": {},
   "outputs": [],
   "source": [
    "credentials = Credentials.from_service_account_file(path_to_json, scopes=scopes)"
   ]
  },
  {
   "cell_type": "code",
   "execution_count": 4,
   "metadata": {},
   "outputs": [],
   "source": [
    "gc = gspread.authorize(credentials)\n",
    "gauth = GoogleAuth()\n",
    "drive = GoogleDrive(gauth)"
   ]
  },
  {
   "cell_type": "code",
   "execution_count": 5,
   "metadata": {},
   "outputs": [],
   "source": [
    "# open a google sheet\n",
    "gs = gc.open_by_key(sheet_key)\n"
   ]
  },
  {
   "cell_type": "code",
   "execution_count": 22,
   "metadata": {},
   "outputs": [],
   "source": [
    "df = pd.DataFrame({'a': ['apple','airplane','alligator'], 'b': ['banana', 'ball', 'butterfly'], 'c': ['cantaloupe', 'crane', 'cat']})"
   ]
  },
  {
   "cell_type": "code",
   "execution_count": 23,
   "metadata": {},
   "outputs": [],
   "source": [
    "set_with_dataframe(worksheet=worksheet, dataframe=df, include_index=False,\n",
    "include_column_header=True, resize=True)"
   ]
  },
  {
   "cell_type": "code",
   "execution_count": 22,
   "metadata": {},
   "outputs": [
    {
     "data": {
      "text/plain": [
       "{'spreadsheetId': '1yyLl9NVVljNXrKg4Kjr_0hEum1Bv0B55x5Bgs2m1_tM',\n",
       " 'tableRange': 'Sheet2!A1:C4',\n",
       " 'updates': {'spreadsheetId': '1yyLl9NVVljNXrKg4Kjr_0hEum1Bv0B55x5Bgs2m1_tM',\n",
       "  'updatedRange': 'Sheet2!A5:C7',\n",
       "  'updatedRows': 3,\n",
       "  'updatedColumns': 3,\n",
       "  'updatedCells': 9}}"
      ]
     },
     "execution_count": 22,
     "metadata": {},
     "output_type": "execute_result"
    }
   ],
   "source": [
    "df_values = df.values.tolist()\n",
    "gs.values_append('Sheet2', {'valueInputOption': 'RAW'}, {'values': df_values})"
   ]
  },
  {
   "cell_type": "code",
   "execution_count": null,
   "metadata": {},
   "outputs": [],
   "source": [
    "def alpha_list(relative_path):\n",
    "    a_list = sorted(list(pd.read_csv(relative_path)))\n",
    "    a_list.insert(0, \"\")\n",
    "    return a_list"
   ]
  },
  {
   "cell_type": "code",
   "execution_count": 17,
   "metadata": {},
   "outputs": [],
   "source": [
    "import pandas as pd\n",
    "\n",
    "x = sorted(list(pd.read_csv('./stock_in_configs/names.csv')))"
   ]
  },
  {
   "cell_type": "code",
   "execution_count": 19,
   "metadata": {},
   "outputs": [
    {
     "data": {
      "text/plain": [
       "['', 'Able', 'Derenzo', 'Jesse', 'Nhlanhla']"
      ]
     },
     "execution_count": 19,
     "metadata": {},
     "output_type": "execute_result"
    }
   ],
   "source": [
    "x.insert(0, \"\")\n",
    "x"
   ]
  }
 ],
 "metadata": {
  "kernelspec": {
   "display_name": "base",
   "language": "python",
   "name": "python3"
  },
  "language_info": {
   "codemirror_mode": {
    "name": "ipython",
    "version": 3
   },
   "file_extension": ".py",
   "mimetype": "text/x-python",
   "name": "python",
   "nbconvert_exporter": "python",
   "pygments_lexer": "ipython3",
   "version": "3.8.8"
  },
  "orig_nbformat": 4
 },
 "nbformat": 4,
 "nbformat_minor": 2
}
