{
 "cells": [
  {
   "cell_type": "code",
   "execution_count": 1,
   "metadata": {},
   "outputs": [],
   "source": [
    "import pandas as pd\n",
    "import gspread\n",
    "from gspread_dataframe import set_with_dataframe\n",
    "from google.oauth2 import service_account\n",
    "from google.oauth2.service_account import Credentials\n",
    "from configs import *\n",
    "\n",
    "from googleapiclient.discovery import build\n",
    "\n",
    "from googleapiclient.http import MediaFileUpload\n"
   ]
  },
  {
   "cell_type": "code",
   "execution_count": 2,
   "metadata": {},
   "outputs": [],
   "source": [
    "def upload_to_drive(path_to_json, parent_folder_key, file_name, file_path):\n",
    "    scope = ['https://www.googleapis.com/auth/drive']\n",
    "    credentials = service_account.Credentials.from_service_account_file(filename=path_to_json, scopes=scope)\n",
    "    service = build('drive', 'v3', credentials=credentials)\n",
    "    file_metadata = {'name': file_name, 'parents': [parent_folder_key]}\n",
    "    media = MediaFileUpload(file_path,mimetype='image/png')\n",
    "    file = service.files().create(body=file_metadata, media_body=media,fields='id').execute()\n",
    "    link = '{url}'.format(url='https://drive.google.com/open?id=' + file.get('id'))\n",
    "\n",
    "    return link"
   ]
  },
  {
   "cell_type": "code",
   "execution_count": 3,
   "metadata": {},
   "outputs": [],
   "source": [
    "file_name = 'test2.png'\n",
    "file_path = './test2.png'\n",
    "x= upload_to_drive(path_to_json, parent_folder_key, file_name, file_path)"
   ]
  },
  {
   "cell_type": "code",
   "execution_count": 4,
   "metadata": {},
   "outputs": [
    {
     "data": {
      "text/plain": [
       "'https://drive.google.com/open?id=1fyBnURAmNpAn69Oe9BhMpbqSpFc2WN9z'"
      ]
     },
     "execution_count": 4,
     "metadata": {},
     "output_type": "execute_result"
    }
   ],
   "source": [
    "def save_uploadedfile(uploadedfile):\n",
    "     with open(os.path.join(\"image_cache\",uploadedfile.name),\"wb\") as f:\n",
    "         f.write(uploadedfile.getbuffer())\n",
    "     return st.success(\"Saved File:{} to tempDir\".format(uploadedfile.name))"
   ]
  }
 ],
 "metadata": {
  "kernelspec": {
   "display_name": "base",
   "language": "python",
   "name": "python3"
  },
  "language_info": {
   "codemirror_mode": {
    "name": "ipython",
    "version": 3
   },
   "file_extension": ".py",
   "mimetype": "text/x-python",
   "name": "python",
   "nbconvert_exporter": "python",
   "pygments_lexer": "ipython3",
   "version": "3.8.8"
  },
  "orig_nbformat": 4
 },
 "nbformat": 4,
 "nbformat_minor": 2
}
